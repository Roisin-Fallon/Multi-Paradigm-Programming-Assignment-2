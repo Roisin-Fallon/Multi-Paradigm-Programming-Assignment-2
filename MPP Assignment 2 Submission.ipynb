{
 "cells": [
  {
   "cell_type": "markdown",
   "metadata": {},
   "source": [
    "# Multi Paradigm Programming Assignment 2 \n",
    "\n",
    "## Roisin Fallon\n",
    "\n",
    "### For each of the following write a functional, recursive, function in Python to accomplish the task. Marks will be award for correct solutions and for comments explaining how the function works.\n",
    "\n",
    "\n",
    "Recursion allows us to break a large task down to smaller tasks by repeatedly calling itself. A recursive function requires a base case to stop execution, and the call to itself which gradually leads to the function to the base case"
   ]
  },
  {
   "cell_type": "markdown",
   "metadata": {},
   "source": [
    "## Question 1\n",
    "\n",
    "### Sum of an array Given an array of numbers return it’s sum (all the numbers added together)."
   ]
  },
  {
   "cell_type": "code",
   "execution_count": 38,
   "metadata": {},
   "outputs": [
    {
     "name": "stdout",
     "output_type": "stream",
     "text": [
      "\n",
      "The sum of the array : 29\n"
     ]
    }
   ],
   "source": [
    "\"\"\"\n",
    "Reference: http://ice-web.cc.gatech.edu/ce21/1/static/thinkcspy/Recursion/CalculatingtheSumofaListofNumbers.html\n",
    "The function takes in an array of numbers and returns the sum of these numbers (which means they \n",
    "are all added together). This is performed using recursion. This method has no side effects. \n",
    "There are a series of recurive calls that are required to add the array [1, 4, 6, 8, 9 , 10]. \n",
    "Each time a recursive call is made a smaller problem is being solved, until the problem cannot get \n",
    "any smaller. \n",
    "\n",
    "In other words we get the sum of all the element without the last one and sum it with \n",
    "the last one. This should be repeated until we reach the first element. Once we have the first element, we reach the bottom \n",
    "of the recursion and we start calculating back.  Thus it returns the sum of the intergers. \n",
    "\n",
    "\"\"\"\n",
    "\n",
    "# Define the function\n",
    "def findSum(array, n):\n",
    "    \n",
    "    # Here we are checking if the array is one element long, if true recursion will end and \n",
    "    # print the value at index 0 (the only value in the array)\n",
    "    # This check is important and is referred to as the base case of the function\n",
    "    if len(array)== 1:\n",
    "        return array[0]\n",
    "       \n",
    "    # If the array is longer than one element the value at index 0 is added to the sum of the rest of the array\n",
    "    # This function calls itself hence it is a recursive function\n",
    "    else:\n",
    "        return array[0]+findSum(array[1:], n)     # Adds up the array \n",
    "\n",
    "# This is the array (list) of numbers that we want to find the sum of \n",
    "array = [1, 4, 6,8, 10] \n",
    "\n",
    "# Calculating number of elements in the array which in this case will be 5\n",
    "n = len(array)\n",
    "\n",
    "# Call the recursive function passing  in the array\n",
    "print(\"\\nThe sum of the array :\", findSum(array, n))        "
   ]
  },
  {
   "cell_type": "markdown",
   "metadata": {},
   "source": [
    "## Question 2\n",
    "\n",
    "\n",
    "### Product of an array Given an array of numbers return it’s product (all the numbers multiplied together)."
   ]
  },
  {
   "cell_type": "code",
   "execution_count": 40,
   "metadata": {},
   "outputs": [
    {
     "name": "stdout",
     "output_type": "stream",
     "text": [
      "\n",
      " The product of the array is :  1920\n"
     ]
    }
   ],
   "source": [
    "\"\"\"\n",
    "Please note the same aray was used as in the previous question. \n",
    "Note the answer is similar to Question 1 with one change to the \n",
    "else statement * used instead of +. \n",
    "Essentially, there are a series of recursive calls that are needed to multiply\n",
    "the array. In the first iteration 10 is multiplied by 8 and 80 will be returned, \n",
    "the next iteration 80 will be multiplied by 6 and 480 will be returned, this process\n",
    "continues to iterate until the base case is reached. \n",
    "This method has no ide effects.\n",
    "\"\"\"\n",
    "\n",
    "# Define the function\n",
    "def findProduct(array, n):\n",
    "    \n",
    "    # Here we are checking if the array is one element long, if true recursion will end and \n",
    "    # print the value at index 0 (the only value in the array)\n",
    "    # This check is important and is referred to as the base case of the function\n",
    "    if len(array) == 1:\n",
    "        return array[0]\n",
    "    \n",
    "    # If the array is longer than one element the value at index 0 is multiplied to the product of the rest of the array\n",
    "    # This function calls itself hence it is a recursive function\n",
    "    else:\n",
    "        return array[0] * prod(array[1:], n)   \n",
    "\n",
    "# Call the recursive function passing  in the array\n",
    "print(\"\\n The product of the array is : \", findProduct(array, n)) "
   ]
  },
  {
   "cell_type": "markdown",
   "metadata": {},
   "source": [
    "## Question 3\n",
    "\n",
    "### Remove all odd numbers Given an array of numbers return an array with all the odd numbers removed."
   ]
  },
  {
   "cell_type": "code",
   "execution_count": 45,
   "metadata": {},
   "outputs": [
    {
     "name": "stdout",
     "output_type": "stream",
     "text": [
      "\n",
      " Odd numbers removed leaving only even numbers in the array :  [2, 4, 6, 8, 10]\n"
     ]
    }
   ],
   "source": [
    "# Define function\n",
    "def removeOdds(array):\n",
    "    \n",
    "    # Recursion will end if array is empty (no values), an empty list is returned\n",
    "    if not array:\n",
    "        return []\n",
    "    \n",
    "    # Starting with the 1st element in the array, modulus is used to check \n",
    "    # if the number is odd or even by determining if there is a remainder\n",
    "\n",
    "    if array[0] % 2 == 0:\n",
    "        # No remainder indicates an even number which will be retuned and the recursion continues\n",
    "        return [array[0]] + removeOdds(array[1:])\n",
    "    return removeOdds(array[1:])\n",
    "\n",
    "# This is the array (list) of numbers that we want to find the sum of \n",
    "array = [1, 2, 3, 4, 5, 6, 7, 8, 9, 10] \n",
    "\n",
    "# Call the recursive function passing  in the array\n",
    "print(\"\\n Odd numbers removed leaving only even numbers in the array : \", removeOdds(array))"
   ]
  },
  {
   "cell_type": "markdown",
   "metadata": {},
   "source": [
    "## Question 4\n",
    "\n",
    "### Remove all even numbers Given an array of numbers return an array with all the even numbers removed."
   ]
  },
  {
   "cell_type": "code",
   "execution_count": 49,
   "metadata": {},
   "outputs": [
    {
     "name": "stdout",
     "output_type": "stream",
     "text": [
      "\n",
      " Even numbers removed leaving only odd numbers in the array :  [1, 3, 5, 7, 9]\n"
     ]
    }
   ],
   "source": [
    "\"\"\"\n",
    "Please note the same aray was used as in the previous question. \n",
    "Note the answer is similar to Question 3 with one change the modulus \n",
    "is not equal to 1 (hence it is even)\n",
    "\n",
    "\"\"\"\n",
    "\n",
    "def removeEvens(array):  \n",
    "    \n",
    "    # Recursion will end if array is empty (no values), an empty list is returned\n",
    "    if not array:\n",
    "        return []\n",
    "    \n",
    "    # Starting with the 1st element in the array, modulus is used to check \n",
    "    # if the number is even by determining if there is a remainder\n",
    "    # Number is only added to the returned array only if it is odd\n",
    "    if array[0] % 2 != 0:                                  # if array[0] % 2 == 1: is another way to say the same thing\n",
    "        return [array[0]] + removeEvens(array[1:])\n",
    "    # if its not odd - check the next element in the array    \n",
    "    return removeEvens(array[1:])\n",
    "\n",
    "# Call the recursive function passing in the array\n",
    "print(\"\\n Even numbers removed leaving only odd numbers in the array : \", removeEvens(array))"
   ]
  },
  {
   "cell_type": "markdown",
   "metadata": {},
   "source": [
    "## Question 5\n",
    "\n",
    "### Replace a given character with ’*’ Given a string, and a character to replace, return a string where each occurance of the character is replaced with ’*’."
   ]
  },
  {
   "cell_type": "code",
   "execution_count": 265,
   "metadata": {},
   "outputs": [
    {
     "name": "stdout",
     "output_type": "stream",
     "text": [
      "The o character in the given string replaced with *:  Hell* W*rld\n"
     ]
    }
   ],
   "source": [
    "\"\"\"\n",
    "This functon takes in a string and returns a version of the string where the specified\n",
    "character is replaced with \"*\" using recursion. This method has no side effects.\n",
    "\n",
    "\"\"\"\n",
    "\n",
    "def replaceChar(string, character):\n",
    "    \n",
    "    # Base case: recursion will stop if the string is empty\n",
    "    if string == '':\n",
    "        return ''\n",
    "    \n",
    "    # If first element in the sting is the same as the character it will be replaced with *\n",
    "    # and it calls the function for the remaining elements in the string \n",
    "    if string[0] == character:\n",
    "        return '*' + replaceChar(string[1:], character)\n",
    "    # Otherwise, it will return the original letter and call the funciton on the remaining elements in the string   \n",
    "    return string[0] + replaceChar(string[1:], character)\n",
    "\n",
    "# test the function\n",
    "print(\"The o character in the given string replaced with *: \", replaceChar('Hello World','o'))"
   ]
  },
  {
   "cell_type": "markdown",
   "metadata": {},
   "source": [
    "## Question 6\n",
    "\n",
    "### Find index in array for item. Given an array, and an element to search for return the index of the element in the array or -1 if the element is not present in the array.\n"
   ]
  },
  {
   "cell_type": "code",
   "execution_count": 66,
   "metadata": {},
   "outputs": [
    {
     "name": "stdout",
     "output_type": "stream",
     "text": [
      "\n",
      " Index in the array :  0\n",
      "\n",
      "\n",
      "This number is not found so index -1 will be diplayed which is = 9\n"
     ]
    }
   ],
   "source": [
    "\"\"\"\n",
    "    This function takes in an array of items and returns the index of the element if present\n",
    "    It returns a -1 if element is not present in the array. This is peformed by the use of recursion. \n",
    "    This method has no side effects.\n",
    "\n",
    "\"\"\"\n",
    "\n",
    "\n",
    "# Define function\n",
    "def index(array, value):\n",
    "    \n",
    "    # If value entered is not in the array it will return -1\n",
    "    if value not in array:\n",
    "      return -1\n",
    "    # If the value is the first item in the array, return 0\n",
    "    elif array[0] == value:\n",
    "      return 0  \n",
    "    \n",
    "    # It recursively goes over the numbers in the array\n",
    "    # Searches for number until it finds the number entered (in this case 17)\n",
    "    # It then loops back and assigns the index position\n",
    "    \n",
    "    else:\n",
    "      return 1 + index(array[1:], value)\n",
    "\n",
    "# This is the array (list) of numbers that we will use \n",
    "array = [1, 2, 3, 4, 5, 6, 7, 8, 9, 17] \n",
    "\n",
    "# Call the recursive function passing  in the array\n",
    "print(\"\\n Index in the array : \", index(array, 1))\n",
    "print(\"\\n\\nThis number is not found so index -1 will be diplayed which is =\",index(array, 17))"
   ]
  },
  {
   "cell_type": "markdown",
   "metadata": {},
   "source": [
    "## Question 7\n",
    "\n",
    "### Sum of Digits Given a whole, number such as 23, return the sum of the digits in the number i.e. 2 + 3 = 5. For this would be useful to convert the number to a string then break it apart into digits"
   ]
  },
  {
   "cell_type": "code",
   "execution_count": 83,
   "metadata": {},
   "outputs": [
    {
     "name": "stdout",
     "output_type": "stream",
     "text": [
      "Sum of digits in 923 is 14\n"
     ]
    }
   ],
   "source": [
    "\"\"\"\n",
    "This function takes in a number and then sums up the digits in the number. \n",
    "Performed using recursion. This method has no side effects.\n",
    "\n",
    "\"\"\"\n",
    "\n",
    "# Define function\n",
    "def sumDigits(num):\n",
    "    \n",
    "    # Converts the number to a string\n",
    "    stringNum = str(num)\n",
    "          \n",
    "    # String with one element long is the base case \n",
    "    # This converts the string back to an integer and returns the first/only digit \n",
    "    if len(stringNum) == 1:\n",
    "        return int(stringNum[0])\n",
    "    \n",
    "    # Strings longer than one involves adding the first value to the sum of the remainder of the string\n",
    "    # This function calls itself hence it is a recursive function\n",
    "    else:\n",
    "        return int(stringNum[0]) + sumDigits(stringNum[1:])\n",
    "\n",
    "# Print the sum of the integer\n",
    "n = 923\n",
    "print(\"Sum of digits in\",n,\"is\", sumDigits(n))"
   ]
  },
  {
   "cell_type": "markdown",
   "metadata": {},
   "source": [
    "## Question 8\n",
    "\n",
    "### Print an array Given an array of integers prints all the elements one per line. This is a little bit different as there is no need for a ’return’ statement just to print and recurse"
   ]
  },
  {
   "cell_type": "code",
   "execution_count": 111,
   "metadata": {},
   "outputs": [
    {
     "name": "stdout",
     "output_type": "stream",
     "text": [
      "1\n",
      "2\n",
      "3\n",
      "4\n",
      "5\n",
      "6\n",
      "7\n",
      "8\n",
      "9\n",
      "17\n",
      "Now Complete!\n"
     ]
    }
   ],
   "source": [
    "\"\"\"\n",
    "\n",
    "    This function takes in an array of integer and pring the elements out one per line recurssively. \n",
    "    This method has no side effects.\n",
    "\"\"\"\n",
    "\n",
    "\n",
    "# Define the function\n",
    "def printArray(array):\n",
    "    \n",
    "  # If the length of the array is zero, it will print the statement: Now Complete!\n",
    "  if len(array) == 0:\n",
    "    print(\"Now Complete!\")\n",
    "\n",
    "  # Otherwise it will print the first value in the array and call the function on the remaining values in the array\n",
    "  # Base Cae: Recursion will end when there are no remaining elements left in the array\n",
    "    \n",
    "    else:\n",
    "    print(array[0])         \n",
    "    printArray(array[1:])     \n",
    " \n",
    "# This is the array (list) of numbers that we will use \n",
    "n = [1, 2, 3, 4, 5, 6, 7, 8, 9, 17] \n",
    "# Call the recursive function passing in the array\n",
    "printArray(n) "
   ]
  },
  {
   "cell_type": "markdown",
   "metadata": {},
   "source": [
    "## Question 9\n",
    "\n",
    "### Find the minimum element in an array of integers. You can carry some extra information through method arguments such as minimum value."
   ]
  },
  {
   "cell_type": "code",
   "execution_count": 135,
   "metadata": {},
   "outputs": [
    {
     "name": "stdout",
     "output_type": "stream",
     "text": [
      "\n",
      " Minimum number in the array :  -4\n"
     ]
    }
   ],
   "source": [
    "# Define the function to print the minimum value in the array\n",
    "def findMin(array):\n",
    "    \n",
    "    # If there is no value in the array it will return the statement below\n",
    "    if len(array) == 0:\n",
    "        return 'Array is empty - No minimum value!'\n",
    "    \n",
    "    # Recursively traverse the array from the end. \n",
    "    # This is the base case.If the remaining array has a length of 1, it will return the only element present \n",
    "    elif len(array) == 1:\n",
    "        return array[0]\n",
    "\n",
    "    # If the condition of the base case is not met then the function is called by passing the array\n",
    "    # At each recursion call (except the base case) returns the mimimum of the last element of the urrent aray and the element returnedfrom the previous recursion call\n",
    "    else:\n",
    "        return min(array[0], findMin(array[1:]))\n",
    "\n",
    "# This is the array (list) of numbers that we want to find the minimum of\n",
    "array = [20, -4, 1, 0, 3] \n",
    "\n",
    "# Call the recursive function passing  in the array\n",
    "print(\"\\n Minimum number in the array : \", findMin(array))"
   ]
  },
  {
   "cell_type": "markdown",
   "metadata": {},
   "source": [
    "## Question 10\n",
    "\n",
    "### Verify the parentheses Given a string, return true if it is a nesting of zero or more pairs of parenthesis, like “(())” or “((()))”."
   ]
  },
  {
   "cell_type": "code",
   "execution_count": 249,
   "metadata": {},
   "outputs": [
    {
     "name": "stdout",
     "output_type": "stream",
     "text": [
      "\n",
      " Brackets Match (())                 :  True\n",
      "\n",
      " No corresponding opening bracket ()):  False\n",
      "\n",
      " No corresponding closing bracket (():  False\n"
     ]
    }
   ],
   "source": [
    "\"\"\"\n",
    "The aim of this function is to read an array from left to right and determine if\n",
    "the parantheses are balanced.Closing paranthesis match opening paranthesis in the\n",
    "reverse order in which they appear. \n",
    "index tranverse through the array. With each recursive call it passes to the \n",
    "next element in the array and checks if it has reached the end of the array. \n",
    "count is used to determine if each of opening paranthesis has a matching closing \n",
    "paranthesis. If it finds a closing paranthesis it decreases by 1 whereas if it finds \n",
    "a opening paranthesis it increases by 1. Thus if the count is not zero at the end\n",
    "of the tranversal it returns False. This method has no side effect. \n",
    "\"\"\"   \n",
    "# Define function \n",
    "def checkParenthesis(string, index = 0, count = 0):\n",
    "    \n",
    "    # The index has passed through the array and the count has matched each opening\n",
    "    # paranthesis to a closing paranthesis. If count is zero returns True\n",
    "    if index == len(string): \n",
    "      return count == 0\n",
    "    \n",
    "    # The index has passed through the array.\n",
    "    # The closing paranthesis did not find its corresponding opening parenthesis and returns False \n",
    "    if count < 0: \n",
    "      return False\n",
    "\n",
    "    # Reccursive cases:\n",
    "    # if open bracket is present the index and count is increased by 1 and it calls the function\n",
    "    if string[index] == \"(\": \n",
    "      return  checkParenthesis(string, index + 1, count + 1)\n",
    "    # if closing bracket is present the index is incremented by 1 and count is decremented by 1 and it calls the function\n",
    "    elif string[index] == \")\": \n",
    "      return  checkParenthesis(string, index + 1, count - 1)\n",
    "    # return the value of check_balance at the next index of the string  \n",
    "   # else:\n",
    "        #return checkParenthesis(string, index + 1, count)\n",
    "      \n",
    "# Send string to function and print if true or false\n",
    "print(\"\\n Brackets Match (())                 : \",checkParenthesis(\"((()))\")) \n",
    "print(\"\\n No corresponding opening bracket ()): \", checkParenthesis(\"())\")) \n",
    "print(\"\\n No corresponding closing bracket ((): \", checkParenthesis(\"(()\")) \n"
   ]
  },
  {
   "cell_type": "code",
   "execution_count": null,
   "metadata": {},
   "outputs": [],
   "source": []
  }
 ],
 "metadata": {
  "kernelspec": {
   "display_name": "Python 3",
   "language": "python",
   "name": "python3"
  },
  "language_info": {
   "codemirror_mode": {
    "name": "ipython",
    "version": 3
   },
   "file_extension": ".py",
   "mimetype": "text/x-python",
   "name": "python",
   "nbconvert_exporter": "python",
   "pygments_lexer": "ipython3",
   "version": "3.7.4"
  }
 },
 "nbformat": 4,
 "nbformat_minor": 2
}
